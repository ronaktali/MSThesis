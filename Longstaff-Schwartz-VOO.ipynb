{
 "cells": [
  {
   "cell_type": "code",
   "execution_count": 1,
   "metadata": {},
   "outputs": [],
   "source": [
    "#Import Libraries\n",
    "import random as rn\n",
    "import yfinance as yf  \n",
    "import numpy as np\n",
    "import pandas as pd\n",
    "import py_vollib.black.greeks.analytical as bs #Special Package to calculate deltas - MIT License\n",
    "import pandasql\n",
    "from numpy import sqrt,mean,log,diff\n",
    "from longstaff_schwartz.algorithm import longstaff_schwartz\n",
    "from longstaff_schwartz.stochastic_process import GeometricBrownianMotion\n",
    "from longstaff_schwartz.binomial import create_binomial_model, american_put_price, american_put_exercise_barrier_fitted"
   ]
  },
  {
   "cell_type": "code",
   "execution_count": null,
   "metadata": {},
   "outputs": [],
   "source": []
  },
  {
   "cell_type": "code",
   "execution_count": null,
   "metadata": {},
   "outputs": [],
   "source": []
  },
  {
   "cell_type": "code",
   "execution_count": null,
   "metadata": {},
   "outputs": [],
   "source": []
  },
  {
   "cell_type": "code",
   "execution_count": null,
   "metadata": {},
   "outputs": [],
   "source": []
  },
  {
   "cell_type": "code",
   "execution_count": null,
   "metadata": {},
   "outputs": [],
   "source": []
  },
  {
   "cell_type": "code",
   "execution_count": null,
   "metadata": {},
   "outputs": [],
   "source": []
  },
  {
   "cell_type": "code",
   "execution_count": null,
   "metadata": {},
   "outputs": [],
   "source": []
  },
  {
   "cell_type": "code",
   "execution_count": null,
   "metadata": {},
   "outputs": [],
   "source": [
    "################### START HERE ######################"
   ]
  },
  {
   "cell_type": "code",
   "execution_count": 2,
   "metadata": {},
   "outputs": [],
   "source": [
    "class data_download:\n",
    "    \n",
    "    def __init__(self, symbol, start_dt, end_dt, option_calendar_days, splits):\n",
    "        \n",
    "        self.symbol = symbol\n",
    "        self.start_dt = start_dt\n",
    "        self.end_dt = end_dt\n",
    "        self.data = None\n",
    "        self.opt_cal_days = option_calendar_days\n",
    "        self.splits = splits\n",
    "        self.data_dict = {}\n",
    "        \n",
    "    def download(self):\n",
    "        self.data = yf.download(self.symbol,self.start_dt,self.end_dt)\n",
    "        \n",
    "    def generate_splits(self):\n",
    "        for h in range(1, self.splits):\n",
    "            self.data_dict[h] = self.data.iloc[self.opt_cal_days*(h-1) : self.opt_cal_days*(h-1)+(self.opt_cal_days-1), 4].values.flatten()\n"
   ]
  },
  {
   "cell_type": "code",
   "execution_count": 3,
   "metadata": {},
   "outputs": [
    {
     "name": "stdout",
     "output_type": "stream",
     "text": [
      "[*********************100%***********************]  1 of 1 completed\n"
     ]
    }
   ],
   "source": [
    "#voo = data_download('VOO','2010-01-01','2019-08-01',62,35)\n",
    "\n",
    "voo = data_download('VOO','2017-04-17','2020-03-31',62,12)\n",
    "voo.download()\n",
    "voo.generate_splits()"
   ]
  },
  {
   "cell_type": "code",
   "execution_count": 4,
   "metadata": {},
   "outputs": [],
   "source": [
    "voo.data_dict[12] = np.array([293.661407,\n",
    "294.417847,\n",
    "297.025635,\n",
    "294.855774,\n",
    "295.960602,\n",
    "295.14444,\n",
    "296.667297,\n",
    "298.717651,\n",
    "297.861694,\n",
    "299.832428,\n",
    "299.434296,\n",
    "300.101166,\n",
    "302.609406,\n",
    "303.634583,\n",
    "303.007507,\n",
    "303.087158,\n",
    "303.385742,\n",
    "300.618744,\n",
    "295.841187,\n",
    "299.046143,\n",
    "298.747528,\n",
    "299.683136,\n",
    "294.30838,\n",
    "296.448303,\n",
    "301.016876,\n",
    "304.420898,\n",
    "305.456055,\n",
    "303.90332,\n",
    "306.083069,\n",
    "306.640442,\n",
    "308.611206,\n",
    "308.312622,\n",
    "308.8302,\n",
    "307.984161,\n",
    "309.467224,\n",
    "308.252899,\n",
    "305.057892,\n",
    "294.855774,\n",
    "285.997375,\n",
    "284.733307,\n",
    "272.112579,\n",
    "270.470276,\n",
    "282.543579,\n",
    "274.750183,\n",
    "286.136749,\n",
    "276.551727,\n",
    "271.913513,\n",
    "250.931992,\n",
    "263.809998,\n",
    "250.729996,\n",
    "226.479996,\n",
    "247.639999,\n",
    "218.570007,\n",
    "232.880005,\n",
    "220.149994,\n",
    "220.339996,\n",
    "210.740005,\n",
    "204.270004,\n",
    "223.75,\n",
    "226.619995,\n",
    "240.240005])"
   ]
  },
  {
   "cell_type": "code",
   "execution_count": null,
   "metadata": {},
   "outputs": [],
   "source": []
  },
  {
   "cell_type": "code",
   "execution_count": null,
   "metadata": {},
   "outputs": [],
   "source": []
  },
  {
   "cell_type": "code",
   "execution_count": 5,
   "metadata": {},
   "outputs": [],
   "source": [
    "class data_prep:\n",
    "    \n",
    "    def __init__ (self, prev_prices, prices, strike_price, state_cut_offs = [0.5, 1.0], time_cut_offs = [3,7],option_length_years = 0.25, risk_free = 0.05, symbol = 'VOO'):\n",
    "        \n",
    "        self.symbol = symbol\n",
    "        self.prices = prices\n",
    "        self.prev_prices = prev_prices\n",
    "        self.est_daily_volatility = None\n",
    "        self.annual_vol = None\n",
    "        self.strike_price = strike_price\n",
    "        self.state_cut_offs = state_cut_offs\n",
    "        self.time_cut_offs = time_cut_offs\n",
    "        self.option_length = option_length_years\n",
    "        self.risk_free = risk_free\n",
    "        self.state_defs = None\n",
    "    \n",
    "    def estimate_volatility(self):\n",
    "        r = diff(log(self.prev_prices))\n",
    "        r_mean = mean(r)\n",
    "        diff_square = [(r[i]-r_mean)**2 for i in range(0,len(r))]\n",
    "        std = sqrt(sum(diff_square)*(1.0/(len(r)-1)))\n",
    "        self.est_daily_volatility = std #Calculated at Daily Level\n",
    "        self.annual_vol = self.est_daily_volatility*np.sqrt(252)\n",
    "        \n",
    "    def boundary_vector(self):\n",
    "        mdl = create_binomial_model(sigma=self.est_daily_volatility, r=0.0005, S0=self.prices[0], T=len(self.prices), n=100)\n",
    "        exercise_barrier = american_put_exercise_barrier_fitted(mdl, self.strike_price, 3)\n",
    "        boundary_vec = [exercise_barrier(k) for k in range(1,len(self.prices)+1)]\n",
    "        return(boundary_vec)\n",
    "    \n",
    "    def longstaff_schwartz(self, boundary_policy):\n",
    "        ls_policy = [ 1 if self.prices[i] > boundary_policy[i] else 0 for i in range(len(self.prices))]\n",
    "        return(ls_policy)\n",
    "\n",
    "    "
   ]
  },
  {
   "cell_type": "code",
   "execution_count": null,
   "metadata": {},
   "outputs": [],
   "source": []
  },
  {
   "cell_type": "code",
   "execution_count": null,
   "metadata": {},
   "outputs": [],
   "source": []
  },
  {
   "cell_type": "code",
   "execution_count": null,
   "metadata": {},
   "outputs": [],
   "source": [
    "############## Generate Policy ######################"
   ]
  },
  {
   "cell_type": "code",
   "execution_count": null,
   "metadata": {},
   "outputs": [],
   "source": []
  },
  {
   "cell_type": "code",
   "execution_count": null,
   "metadata": {},
   "outputs": [],
   "source": []
  },
  {
   "cell_type": "code",
   "execution_count": null,
   "metadata": {},
   "outputs": [],
   "source": []
  },
  {
   "cell_type": "code",
   "execution_count": null,
   "metadata": {},
   "outputs": [],
   "source": []
  },
  {
   "cell_type": "code",
   "execution_count": null,
   "metadata": {},
   "outputs": [],
   "source": []
  },
  {
   "cell_type": "code",
   "execution_count": null,
   "metadata": {},
   "outputs": [],
   "source": [
    "########### Prediction ################"
   ]
  },
  {
   "cell_type": "code",
   "execution_count": 6,
   "metadata": {},
   "outputs": [],
   "source": [
    "class ls_online_predict:\n",
    "    \n",
    "    def __init__ (self, data_object, policy):\n",
    "        \n",
    "        self.data_object = data_object\n",
    "        self.policy = policy\n",
    "        self.epsilon_episode = None\n",
    "        self.deltas = None\n",
    "        \n",
    "    def delta(self):\n",
    "        self.deltas =  [np.around(bs.delta('c',self.data_object.prices[h], \n",
    "                          self.data_object.strike_price, \n",
    "                          self.data_object.option_length - np.around(h/252,2), #Time to expiry\n",
    "                          self.data_object.risk_free, \n",
    "                          self.data_object.annual_vol),2) for h in range(len(self.data_object.prices))]\n",
    "        \n",
    "    #Here episode represents whether strategy = 0 or 1\n",
    "    def predict_profit_function(self, episode):\n",
    "    \n",
    "        positions = [self.deltas[h] if episode[h] == 1 else self.deltas[h-1] for h in range(len(self.data_object.prices))]\n",
    "    \n",
    "        #Cost of Borrowing Money for 1 day \n",
    "        dollar_positions = -1*[self.data_object.prices[h]*positions[h]*self.data_object.risk_free for h in range(len(self.data_object.prices))]\n",
    "    \n",
    "        #Cost of adjusting portfolio to bring position at par with BS delta\n",
    "        portfolio_positions = [self.data_object.prices[h]*(positions[h] - positions[h-1]) for h in range(1,len(self.data_object.prices))]\n",
    "    \n",
    "        #Sum daily transaction costs over the Option Time Frame\n",
    "        transaction_cost = sum(dollar_positions)\n",
    "    \n",
    "        #Sum daily portfolio costs over the Option Time Frame\n",
    "        portfolio_cost = sum(portfolio_positions)\n",
    "    \n",
    "        #Return the Excess Profit over Black Scholes\n",
    "        return transaction_cost + portfolio_cost\n",
    "    \n",
    "    def ls_predict(self):\n",
    "        \n",
    "        self.epsilon_episode = self.policy\n",
    "        \n",
    "        return(self.predict_profit_function(self.epsilon_episode))\n",
    "    \n",
    "    "
   ]
  },
  {
   "cell_type": "code",
   "execution_count": 18,
   "metadata": {},
   "outputs": [],
   "source": [
    "ls4 = data_prep(prev_prices=bnd.data_dict[3], prices=bnd.data_dict[4],strike_price=76.000000)"
   ]
  },
  {
   "cell_type": "code",
   "execution_count": 19,
   "metadata": {},
   "outputs": [],
   "source": [
    "ls4.estimate_volatility()"
   ]
  },
  {
   "cell_type": "code",
   "execution_count": 20,
   "metadata": {},
   "outputs": [],
   "source": [
    "boundary_v = ls4.boundary_vector()"
   ]
  },
  {
   "cell_type": "code",
   "execution_count": 21,
   "metadata": {},
   "outputs": [],
   "source": [
    "boundary_pol = ls4.longstaff_schwartz(boundary_v)"
   ]
  },
  {
   "cell_type": "code",
   "execution_count": null,
   "metadata": {},
   "outputs": [],
   "source": [
    "#Predict"
   ]
  },
  {
   "cell_type": "code",
   "execution_count": 22,
   "metadata": {},
   "outputs": [],
   "source": [
    "L4 = ls_online_predict(ls4,boundary_pol)\n"
   ]
  },
  {
   "cell_type": "code",
   "execution_count": 23,
   "metadata": {},
   "outputs": [],
   "source": [
    "L4.delta()\n"
   ]
  },
  {
   "cell_type": "code",
   "execution_count": 24,
   "metadata": {},
   "outputs": [
    {
     "name": "stdout",
     "output_type": "stream",
     "text": [
      "0.2503160858154333\n"
     ]
    }
   ],
   "source": [
    "print(L4.ls_predict())\n"
   ]
  },
  {
   "cell_type": "code",
   "execution_count": null,
   "metadata": {},
   "outputs": [],
   "source": []
  },
  {
   "cell_type": "code",
   "execution_count": null,
   "metadata": {},
   "outputs": [],
   "source": []
  },
  {
   "cell_type": "code",
   "execution_count": 7,
   "metadata": {},
   "outputs": [
    {
     "name": "stdout",
     "output_type": "stream",
     "text": [
      "5.598106231689447\n"
     ]
    }
   ],
   "source": [
    "ls4 = data_prep(prev_prices=voo.data_dict[3], prices=voo.data_dict[4],strike_price=250.000000)\n",
    "ls4.estimate_volatility()\n",
    "boundary_v = ls4.boundary_vector()\n",
    "boundary_pol = ls4.longstaff_schwartz(boundary_v)\n",
    "\n",
    "\n",
    "#Predict\n",
    "L4 = ls_online_predict(ls4,boundary_pol)\n",
    "L4.delta()\n",
    "print(L4.ls_predict())\n"
   ]
  },
  {
   "cell_type": "code",
   "execution_count": null,
   "metadata": {},
   "outputs": [],
   "source": []
  },
  {
   "cell_type": "code",
   "execution_count": null,
   "metadata": {},
   "outputs": [],
   "source": [
    "#####################"
   ]
  },
  {
   "cell_type": "code",
   "execution_count": 8,
   "metadata": {},
   "outputs": [
    {
     "name": "stdout",
     "output_type": "stream",
     "text": [
      "-80.03715406000003\n"
     ]
    }
   ],
   "source": [
    "ls5 = data_prep(prev_prices=voo.data_dict[11], prices=voo.data_dict[12],strike_price=300.000000)\n",
    "ls5.estimate_volatility()\n",
    "boundary_v2 = ls5.boundary_vector()\n",
    "boundary_pol2 = ls5.longstaff_schwartz(boundary_v2)\n",
    "\n",
    "\n",
    "#Predict\n",
    "L5 = ls_online_predict(ls5,boundary_pol2)\n",
    "L5.delta()\n",
    "print(L5.ls_predict())\n"
   ]
  },
  {
   "cell_type": "code",
   "execution_count": null,
   "metadata": {},
   "outputs": [],
   "source": []
  },
  {
   "cell_type": "code",
   "execution_count": null,
   "metadata": {},
   "outputs": [],
   "source": [
    "#####################"
   ]
  },
  {
   "cell_type": "code",
   "execution_count": 9,
   "metadata": {},
   "outputs": [
    {
     "name": "stdout",
     "output_type": "stream",
     "text": [
      "180.64434951782223\n"
     ]
    }
   ],
   "source": [
    "ls6 = data_prep(prev_prices=voo.data_dict[5], prices=voo.data_dict[6],strike_price=255.000000)\n",
    "ls6.estimate_volatility()\n",
    "boundary_v3 = ls6.boundary_vector()\n",
    "boundary_pol3 = ls6.longstaff_schwartz(boundary_v3)\n",
    "\n",
    "\n",
    "#Predict\n",
    "L6 = ls_online_predict(ls6,boundary_pol3)\n",
    "L6.delta()\n",
    "print(L6.ls_predict())"
   ]
  },
  {
   "cell_type": "code",
   "execution_count": null,
   "metadata": {},
   "outputs": [],
   "source": []
  },
  {
   "cell_type": "code",
   "execution_count": null,
   "metadata": {},
   "outputs": [],
   "source": []
  },
  {
   "cell_type": "code",
   "execution_count": null,
   "metadata": {},
   "outputs": [],
   "source": []
  },
  {
   "cell_type": "code",
   "execution_count": null,
   "metadata": {},
   "outputs": [],
   "source": []
  },
  {
   "cell_type": "code",
   "execution_count": null,
   "metadata": {},
   "outputs": [],
   "source": []
  },
  {
   "cell_type": "code",
   "execution_count": null,
   "metadata": {},
   "outputs": [],
   "source": []
  }
 ],
 "metadata": {
  "kernelspec": {
   "display_name": "Python 3",
   "language": "python",
   "name": "python3"
  },
  "language_info": {
   "codemirror_mode": {
    "name": "ipython",
    "version": 3
   },
   "file_extension": ".py",
   "mimetype": "text/x-python",
   "name": "python",
   "nbconvert_exporter": "python",
   "pygments_lexer": "ipython3",
   "version": "3.6.3"
  }
 },
 "nbformat": 4,
 "nbformat_minor": 2
}
