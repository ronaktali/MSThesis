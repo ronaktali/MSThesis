{
 "cells": [
  {
   "cell_type": "code",
   "execution_count": 1,
   "metadata": {},
   "outputs": [],
   "source": [
    "#Import Libraries\n",
    "import random as rn\n",
    "import yfinance as yf  \n",
    "import numpy as np\n",
    "import pandas as pd\n",
    "import py_vollib.black.greeks.analytical as bs #Special Package to calculate deltas - MIT License\n",
    "import pandasql\n",
    "from numpy import sqrt,mean,log,diff\n",
    "from longstaff_schwartz.algorithm import longstaff_schwartz\n",
    "from longstaff_schwartz.stochastic_process import GeometricBrownianMotion\n",
    "from longstaff_schwartz.binomial import create_binomial_model, american_put_price, american_put_exercise_barrier_fitted"
   ]
  },
  {
   "cell_type": "code",
   "execution_count": 4,
   "metadata": {},
   "outputs": [],
   "source": [
    "##### test code\n",
    "\n",
    "\n",
    "S0 = 680\n",
    "sigma = 0.2\n",
    "strike = S0\n",
    "\n",
    "mdl = create_binomial_model(sigma=sigma, r=0.0005, S0=S0, T=90, n=100)\n",
    "exercise_barrier = american_put_exercise_barrier_fitted(mdl, strike, 3)\n"
   ]
  },
  {
   "cell_type": "code",
   "execution_count": 5,
   "metadata": {},
   "outputs": [
    {
     "data": {
      "text/latex": [
       "$x \\mapsto \\text{40.0358459038992} - \\text{20.229966149468314}\\,\\left(\\text{-1.3571428571428572} + \\text{0.02619047619047619}x\\right) + \\text{144.43073110010297}\\,\\left(\\text{-1.3571428571428572} + \\text{0.02619047619047619}x\\right)^{2} + \\text{205.45408407826724}\\,\\left(\\text{-1.3571428571428572} + \\text{0.02619047619047619}x\\right)^{3}$"
      ],
      "text/plain": [
       "Polynomial([ 40.0358459 , -20.22996615, 144.4307311 , 205.45408408], domain=[13.63636364, 90.        ], window=[-1.,  1.])"
      ]
     },
     "execution_count": 5,
     "metadata": {},
     "output_type": "execute_result"
    }
   ],
   "source": [
    "##### test code\n",
    "\n",
    "exercise_barrier"
   ]
  },
  {
   "cell_type": "code",
   "execution_count": 10,
   "metadata": {},
   "outputs": [
    {
     "data": {
      "text/plain": [
       "[-180.0517101355668,\n",
       " -161.58747872169027,\n",
       " -144.05052720805128,\n",
       " -127.41870954784815,\n",
       " -111.6698796942791,\n",
       " -96.78189160054248,\n",
       " -82.73259921983642,\n",
       " -69.49985650535908,\n",
       " -57.06151741030888,\n",
       " -45.39543588788382,\n",
       " -34.479465891282416,\n",
       " -24.291461373702674,\n",
       " -14.809276288342986,\n",
       " -6.010764588401443,\n",
       " 2.126219772923548,\n",
       " 9.623822842433821,\n",
       " 16.504190666931258,\n",
       " 22.789469293217447,\n",
       " 28.50180476809426,\n",
       " 33.6633431383634,\n",
       " 38.296230450826684,\n",
       " 42.42261275228584,\n",
       " 46.06463608954263,\n",
       " 49.24444650939882,\n",
       " 51.984190058656196,\n",
       " 54.30601278411651,\n",
       " 56.2320607325815,\n",
       " 57.78447995085297,\n",
       " 58.98541648573266,\n",
       " 59.85701638402232,\n",
       " 60.42142569252375,\n",
       " 60.70079045803868,\n",
       " 60.71725672736889,\n",
       " 60.49297054731615,\n",
       " 60.0500779646822,\n",
       " 59.41072502626882,\n",
       " 58.59705777887777,\n",
       " 57.63122226931082,\n",
       " 56.53536454436972,\n",
       " 55.33163065085625,\n",
       " 54.042166635572144,\n",
       " 52.689118545319204,\n",
       " 51.29463242689916,\n",
       " 49.8808543271138,\n",
       " 48.469930292764865,\n",
       " 47.084006370654144,\n",
       " 45.745228607583385,\n",
       " 44.47574305035434,\n",
       " 43.2976957457688,\n",
       " 42.2332327406285,\n",
       " 41.30450008173523,\n",
       " 40.53364381589073,\n",
       " 39.94280998989678,\n",
       " 39.55414465055513,\n",
       " 39.38979384466756,\n",
       " 39.471903619035814,\n",
       " 39.82262002046167,\n",
       " 40.46408909574688,\n",
       " 41.41845689169322,\n",
       " 42.70786945510245,\n",
       " 44.35447283277632,\n",
       " 46.380413071516614,\n",
       " 48.807836218125075,\n",
       " 51.65888831940349,\n",
       " 54.95571542215359,\n",
       " 58.720463573177156,\n",
       " 62.97527881927598,\n",
       " 67.74230720725177,\n",
       " 73.04369478390635,\n",
       " 78.9015875960414,\n",
       " 85.3381316904588,\n",
       " 92.37547311396018,\n",
       " 100.03575791334737,\n",
       " 108.34113213542221,\n",
       " 117.3137418269863,\n",
       " 126.97573303484157,\n",
       " 137.34925180578963,\n",
       " 148.45644418663232,\n",
       " 160.31945622417138,\n",
       " 172.9604339652088,\n",
       " 186.40152345654593,\n",
       " 200.66487074498477,\n",
       " 215.772621877327,\n",
       " 231.74692290037476,\n",
       " 248.60991986092915,\n",
       " 266.38375880579224,\n",
       " 285.0905857817659,\n",
       " 304.7525468356518,\n",
       " 325.3917880142521,\n",
       " 347.03045536436787]"
      ]
     },
     "execution_count": 10,
     "metadata": {},
     "output_type": "execute_result"
    }
   ],
   "source": [
    "##### test code\n",
    "\n",
    "[exercise_barrier(k) for k in range(90)]"
   ]
  },
  {
   "cell_type": "code",
   "execution_count": null,
   "metadata": {},
   "outputs": [],
   "source": []
  },
  {
   "cell_type": "code",
   "execution_count": null,
   "metadata": {},
   "outputs": [],
   "source": []
  },
  {
   "cell_type": "code",
   "execution_count": null,
   "metadata": {},
   "outputs": [],
   "source": []
  },
  {
   "cell_type": "code",
   "execution_count": null,
   "metadata": {},
   "outputs": [],
   "source": []
  },
  {
   "cell_type": "code",
   "execution_count": null,
   "metadata": {},
   "outputs": [],
   "source": []
  },
  {
   "cell_type": "code",
   "execution_count": null,
   "metadata": {},
   "outputs": [],
   "source": []
  },
  {
   "cell_type": "code",
   "execution_count": null,
   "metadata": {},
   "outputs": [],
   "source": []
  },
  {
   "cell_type": "code",
   "execution_count": null,
   "metadata": {},
   "outputs": [],
   "source": [
    "################### START HERE ######################"
   ]
  },
  {
   "cell_type": "code",
   "execution_count": 2,
   "metadata": {},
   "outputs": [],
   "source": [
    "class data_download:\n",
    "    \n",
    "    def __init__(self, symbol, start_dt, end_dt, option_calendar_days, splits):\n",
    "        \n",
    "        self.symbol = symbol\n",
    "        self.start_dt = start_dt\n",
    "        self.end_dt = end_dt\n",
    "        self.data = None\n",
    "        self.opt_cal_days = option_calendar_days\n",
    "        self.splits = splits\n",
    "        self.data_dict = {}\n",
    "        \n",
    "    def download(self):\n",
    "        self.data = yf.download(self.symbol,self.start_dt,self.end_dt)\n",
    "        \n",
    "    def generate_splits(self):\n",
    "        for h in range(1, self.splits):\n",
    "            self.data_dict[h] = self.data.iloc[self.opt_cal_days*(h-1) : self.opt_cal_days*(h-1)+(self.opt_cal_days-1), 4].values.flatten()\n"
   ]
  },
  {
   "cell_type": "code",
   "execution_count": 3,
   "metadata": {},
   "outputs": [
    {
     "name": "stdout",
     "output_type": "stream",
     "text": [
      "[*********************100%***********************]  1 of 1 completed\n"
     ]
    }
   ],
   "source": [
    "#voo = data_download('VOO','2010-01-01','2019-08-01',62,35)\n",
    "\n",
    "bnd = data_download('BND','2017-04-17','2020-03-31',62,12)\n",
    "bnd.download()\n",
    "bnd.generate_splits()"
   ]
  },
  {
   "cell_type": "code",
   "execution_count": null,
   "metadata": {},
   "outputs": [],
   "source": []
  },
  {
   "cell_type": "code",
   "execution_count": 4,
   "metadata": {},
   "outputs": [],
   "source": [
    "class data_prep:\n",
    "    \n",
    "    def __init__ (self, prev_prices, prices, strike_price, state_cut_offs = [0.5, 1.0], time_cut_offs = [3,7],option_length_years = 0.25, risk_free = 0.05, symbol = 'VOO'):\n",
    "        \n",
    "        self.symbol = symbol\n",
    "        self.prices = prices\n",
    "        self.prev_prices = prev_prices\n",
    "        self.est_daily_volatility = None\n",
    "        self.annual_vol = None\n",
    "        self.strike_price = strike_price\n",
    "        self.state_cut_offs = state_cut_offs\n",
    "        self.time_cut_offs = time_cut_offs\n",
    "        self.option_length = option_length_years\n",
    "        self.risk_free = risk_free\n",
    "        self.state_defs = None\n",
    "    \n",
    "    def estimate_volatility(self):\n",
    "        r = diff(log(self.prev_prices))\n",
    "        r_mean = mean(r)\n",
    "        diff_square = [(r[i]-r_mean)**2 for i in range(0,len(r))]\n",
    "        std = sqrt(sum(diff_square)*(1.0/(len(r)-1)))\n",
    "        self.est_daily_volatility = std #Calculated at Daily Level\n",
    "        self.annual_vol = self.est_daily_volatility*np.sqrt(252)\n",
    "        \n",
    "    def boundary_vector(self):\n",
    "        mdl = create_binomial_model(sigma=self.est_daily_volatility, r=0.0005, S0=self.prices[0], T=len(self.prices), n=100)\n",
    "        exercise_barrier = american_put_exercise_barrier_fitted(mdl, self.strike_price, 3)\n",
    "        boundary_vec = [exercise_barrier(k) for k in range(1,len(self.prices)+1)]\n",
    "        return(boundary_vec)\n",
    "    \n",
    "    def longstaff_schwartz(self, boundary_policy):\n",
    "        ls_policy = [ 1 if self.prices[i] > boundary_policy[i] else 0 for i in range(len(self.prices))]\n",
    "        return(ls_policy)\n",
    "\n",
    "    "
   ]
  },
  {
   "cell_type": "code",
   "execution_count": null,
   "metadata": {},
   "outputs": [],
   "source": []
  },
  {
   "cell_type": "code",
   "execution_count": null,
   "metadata": {},
   "outputs": [],
   "source": []
  },
  {
   "cell_type": "code",
   "execution_count": null,
   "metadata": {},
   "outputs": [],
   "source": [
    "############## Generate Policy ######################"
   ]
  },
  {
   "cell_type": "code",
   "execution_count": null,
   "metadata": {},
   "outputs": [],
   "source": []
  },
  {
   "cell_type": "code",
   "execution_count": null,
   "metadata": {},
   "outputs": [],
   "source": []
  },
  {
   "cell_type": "code",
   "execution_count": null,
   "metadata": {},
   "outputs": [],
   "source": []
  },
  {
   "cell_type": "code",
   "execution_count": null,
   "metadata": {},
   "outputs": [],
   "source": []
  },
  {
   "cell_type": "code",
   "execution_count": null,
   "metadata": {},
   "outputs": [],
   "source": []
  },
  {
   "cell_type": "code",
   "execution_count": null,
   "metadata": {},
   "outputs": [],
   "source": [
    "########### Prediction ################"
   ]
  },
  {
   "cell_type": "code",
   "execution_count": 5,
   "metadata": {},
   "outputs": [],
   "source": [
    "class ls_online_predict:\n",
    "    \n",
    "    def __init__ (self, data_object, policy):\n",
    "        \n",
    "        self.data_object = data_object\n",
    "        self.policy = policy\n",
    "        self.epsilon_episode = None\n",
    "        self.deltas = None\n",
    "        \n",
    "    def delta(self):\n",
    "        self.deltas =  [np.around(bs.delta('c',self.data_object.prices[h], \n",
    "                          self.data_object.strike_price, \n",
    "                          self.data_object.option_length - np.around(h/252,2), #Time to expiry\n",
    "                          self.data_object.risk_free, \n",
    "                          self.data_object.annual_vol),2) for h in range(len(self.data_object.prices))]\n",
    "        \n",
    "    #Here episode represents whether strategy = 0 or 1\n",
    "    def predict_profit_function(self, episode):\n",
    "    \n",
    "        positions = [self.deltas[h] if episode[h] == 1 else self.deltas[h-1] for h in range(len(self.data_object.prices))]\n",
    "    \n",
    "        #Cost of Borrowing Money for 1 day \n",
    "        dollar_positions = -1*[self.data_object.prices[h]*positions[h]*self.data_object.risk_free for h in range(len(self.data_object.prices))]\n",
    "    \n",
    "        #Cost of adjusting portfolio to bring position at par with BS delta\n",
    "        portfolio_positions = [self.data_object.prices[h]*(positions[h] - positions[h-1]) for h in range(1,len(self.data_object.prices))]\n",
    "    \n",
    "        #Sum daily transaction costs over the Option Time Frame\n",
    "        transaction_cost = sum(dollar_positions)\n",
    "    \n",
    "        #Sum daily portfolio costs over the Option Time Frame\n",
    "        portfolio_cost = sum(portfolio_positions)\n",
    "    \n",
    "        #Return the Excess Profit over Black Scholes\n",
    "        return transaction_cost + portfolio_cost\n",
    "    \n",
    "    def ls_predict(self):\n",
    "        \n",
    "        self.epsilon_episode = self.policy\n",
    "        \n",
    "        return(self.predict_profit_function(self.epsilon_episode))\n",
    "    \n",
    "    "
   ]
  },
  {
   "cell_type": "code",
   "execution_count": 18,
   "metadata": {},
   "outputs": [],
   "source": [
    "ls4 = data_prep(prev_prices=bnd.data_dict[3], prices=bnd.data_dict[4],strike_price=76.000000)"
   ]
  },
  {
   "cell_type": "code",
   "execution_count": 19,
   "metadata": {},
   "outputs": [],
   "source": [
    "ls4.estimate_volatility()"
   ]
  },
  {
   "cell_type": "code",
   "execution_count": 20,
   "metadata": {},
   "outputs": [],
   "source": [
    "boundary_v = ls4.boundary_vector()"
   ]
  },
  {
   "cell_type": "code",
   "execution_count": 21,
   "metadata": {},
   "outputs": [],
   "source": [
    "boundary_pol = ls4.longstaff_schwartz(boundary_v)"
   ]
  },
  {
   "cell_type": "code",
   "execution_count": null,
   "metadata": {},
   "outputs": [],
   "source": [
    "#Predict"
   ]
  },
  {
   "cell_type": "code",
   "execution_count": 22,
   "metadata": {},
   "outputs": [],
   "source": [
    "L4 = ls_online_predict(ls4,boundary_pol)\n"
   ]
  },
  {
   "cell_type": "code",
   "execution_count": 23,
   "metadata": {},
   "outputs": [],
   "source": [
    "L4.delta()\n"
   ]
  },
  {
   "cell_type": "code",
   "execution_count": 24,
   "metadata": {},
   "outputs": [
    {
     "name": "stdout",
     "output_type": "stream",
     "text": [
      "0.2503160858154333\n"
     ]
    }
   ],
   "source": [
    "print(L4.ls_predict())\n"
   ]
  },
  {
   "cell_type": "code",
   "execution_count": null,
   "metadata": {},
   "outputs": [],
   "source": []
  },
  {
   "cell_type": "code",
   "execution_count": null,
   "metadata": {},
   "outputs": [],
   "source": []
  },
  {
   "cell_type": "code",
   "execution_count": null,
   "metadata": {},
   "outputs": [],
   "source": [
    "ls4 = data_prep(prev_prices=bnd.data_dict[3], prices=bnd.data_dict[4],strike_price=76.000000)\n",
    "ls4.estimate_volatility()\n",
    "boundary_v = ls4.boundary_vector()\n",
    "boundary_pol = ls4.longstaff_schwartz(boundary_v)\n",
    "\n",
    "\n",
    "#Predict\n",
    "L4 = ls_online_predict(ls4,boundary_pol)\n",
    "L4.delta()\n",
    "print(L4.ls_predict())\n"
   ]
  },
  {
   "cell_type": "code",
   "execution_count": null,
   "metadata": {},
   "outputs": [],
   "source": [
    "##########"
   ]
  },
  {
   "cell_type": "code",
   "execution_count": 7,
   "metadata": {},
   "outputs": [
    {
     "name": "stdout",
     "output_type": "stream",
     "text": [
      "1.0743717193603528\n"
     ]
    }
   ],
   "source": [
    "ls5 = data_prep(prev_prices=bnd.data_dict[10], prices=bnd.data_dict[11],strike_price=84.000000)\n",
    "ls5.estimate_volatility()\n",
    "boundary_v2 = ls5.boundary_vector()\n",
    "boundary_pol2 = ls5.longstaff_schwartz(boundary_v2)\n",
    "\n",
    "\n",
    "#Predict\n",
    "L5 = ls_online_predict(ls5,boundary_pol2)\n",
    "L5.delta()\n",
    "print(L5.ls_predict())\n"
   ]
  },
  {
   "cell_type": "code",
   "execution_count": null,
   "metadata": {},
   "outputs": [],
   "source": []
  },
  {
   "cell_type": "code",
   "execution_count": null,
   "metadata": {},
   "outputs": [],
   "source": [
    "###########"
   ]
  },
  {
   "cell_type": "code",
   "execution_count": 6,
   "metadata": {},
   "outputs": [
    {
     "name": "stdout",
     "output_type": "stream",
     "text": [
      "0.06171356201171907\n"
     ]
    }
   ],
   "source": [
    "ls6 = data_prep(prev_prices=bnd.data_dict[5], prices=bnd.data_dict[6],strike_price=76.000000)\n",
    "ls6.estimate_volatility()\n",
    "boundary_v3 = ls6.boundary_vector()\n",
    "boundary_pol3 = ls6.longstaff_schwartz(boundary_v3)\n",
    "\n",
    "\n",
    "#Predict\n",
    "L6 = ls_online_predict(ls6,boundary_pol3)\n",
    "L6.delta()\n",
    "print(L6.ls_predict())"
   ]
  },
  {
   "cell_type": "code",
   "execution_count": null,
   "metadata": {},
   "outputs": [],
   "source": []
  }
 ],
 "metadata": {
  "kernelspec": {
   "display_name": "Python 3",
   "language": "python",
   "name": "python3"
  },
  "language_info": {
   "codemirror_mode": {
    "name": "ipython",
    "version": 3
   },
   "file_extension": ".py",
   "mimetype": "text/x-python",
   "name": "python",
   "nbconvert_exporter": "python",
   "pygments_lexer": "ipython3",
   "version": "3.6.3"
  }
 },
 "nbformat": 4,
 "nbformat_minor": 2
}
