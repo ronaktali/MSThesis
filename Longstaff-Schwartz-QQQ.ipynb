{
 "cells": [
  {
   "cell_type": "code",
   "execution_count": 1,
   "metadata": {},
   "outputs": [],
   "source": [
    "#Import Libraries\n",
    "import random as rn\n",
    "import yfinance as yf  \n",
    "import numpy as np\n",
    "import pandas as pd\n",
    "import py_vollib.black.greeks.analytical as bs #Special Package to calculate deltas - MIT License\n",
    "import pandasql\n",
    "from numpy import sqrt,mean,log,diff\n",
    "from longstaff_schwartz.algorithm import longstaff_schwartz\n",
    "from longstaff_schwartz.stochastic_process import GeometricBrownianMotion\n",
    "from longstaff_schwartz.binomial import create_binomial_model, american_put_price, american_put_exercise_barrier_fitted"
   ]
  },
  {
   "cell_type": "code",
   "execution_count": null,
   "metadata": {},
   "outputs": [],
   "source": []
  },
  {
   "cell_type": "code",
   "execution_count": null,
   "metadata": {},
   "outputs": [],
   "source": []
  },
  {
   "cell_type": "code",
   "execution_count": null,
   "metadata": {},
   "outputs": [],
   "source": []
  },
  {
   "cell_type": "code",
   "execution_count": null,
   "metadata": {},
   "outputs": [],
   "source": []
  },
  {
   "cell_type": "code",
   "execution_count": null,
   "metadata": {},
   "outputs": [],
   "source": []
  },
  {
   "cell_type": "code",
   "execution_count": null,
   "metadata": {},
   "outputs": [],
   "source": []
  },
  {
   "cell_type": "code",
   "execution_count": null,
   "metadata": {},
   "outputs": [],
   "source": []
  },
  {
   "cell_type": "code",
   "execution_count": null,
   "metadata": {},
   "outputs": [],
   "source": [
    "################### START HERE ######################"
   ]
  },
  {
   "cell_type": "code",
   "execution_count": 2,
   "metadata": {},
   "outputs": [],
   "source": [
    "class data_download:\n",
    "    \n",
    "    def __init__(self, symbol, start_dt, end_dt, option_calendar_days, splits):\n",
    "        \n",
    "        self.symbol = symbol\n",
    "        self.start_dt = start_dt\n",
    "        self.end_dt = end_dt\n",
    "        self.data = None\n",
    "        self.opt_cal_days = option_calendar_days\n",
    "        self.splits = splits\n",
    "        self.data_dict = {}\n",
    "        \n",
    "    def download(self):\n",
    "        self.data = yf.download(self.symbol,self.start_dt,self.end_dt)\n",
    "        \n",
    "    def generate_splits(self):\n",
    "        for h in range(1, self.splits):\n",
    "            self.data_dict[h] = self.data.iloc[self.opt_cal_days*(h-1) : self.opt_cal_days*(h-1)+(self.opt_cal_days-1), 4].values.flatten()\n"
   ]
  },
  {
   "cell_type": "code",
   "execution_count": 3,
   "metadata": {},
   "outputs": [
    {
     "name": "stdout",
     "output_type": "stream",
     "text": [
      "[*********************100%***********************]  1 of 1 completed\n"
     ]
    }
   ],
   "source": [
    "#voo = data_download('VOO','2010-01-01','2019-08-01',62,35)\n",
    "\n",
    "qqq = data_download('QQQ','2017-04-17','2020-03-31',62,12)\n",
    "qqq.download()\n",
    "qqq.generate_splits()"
   ]
  },
  {
   "cell_type": "code",
   "execution_count": 5,
   "metadata": {},
   "outputs": [
    {
     "data": {
      "text/plain": [
       "{1: array([127.91567993, 127.72109985, 127.9254303 , 128.99559021,\n",
       "        128.96640015, 130.52305603, 131.46673584, 131.28187561,\n",
       "        132.06994629, 132.30340576, 133.4806366 , 133.70439148,\n",
       "        133.27630615, 133.32493591, 133.81140137, 134.10327148,\n",
       "        134.57025146, 134.64810181, 134.54104614, 134.84268188,\n",
       "        135.27073669, 135.83500671, 132.38127136, 133.53901672,\n",
       "        134.10327148, 135.23182678, 135.36801147, 135.99067688,\n",
       "        137.14842224, 137.39161682, 137.50836182, 137.45974731,\n",
       "        137.99482727, 139.57092285, 139.54174805, 138.98721313,\n",
       "        139.53201294, 139.67793274, 136.18527222, 135.45558167,\n",
       "        136.55497742, 135.96148682, 135.35830688, 134.77101135,\n",
       "        137.02452087, 135.95144653, 137.29768372, 137.25866699,\n",
       "        137.78547668, 137.14161682, 134.65396118, 136.59529114,\n",
       "        134.22476196, 134.27351379, 132.85896301, 134.16619873,\n",
       "        132.95649719, 134.39057922, 135.26856995, 135.64900208,\n",
       "        137.25866699]),\n",
       " 2: array([138.6439209 , 138.71221924, 139.63894653, 140.45843506,\n",
       "        140.64378357, 140.58526611, 141.22914124, 140.8681488 ,\n",
       "        141.32662964, 140.43891907, 140.32183838, 139.72677612,\n",
       "        140.04870605, 140.42915344, 139.88287354, 140.13652039,\n",
       "        141.02424622, 140.78036499, 140.59501648, 137.58059692,\n",
       "        138.62440491, 140.40968323, 140.50720215, 140.75108337,\n",
       "        137.87324524, 137.7756958 , 137.6000824 , 139.69750977,\n",
       "        139.19998169, 138.7902832 , 138.49760437, 138.92684937,\n",
       "        139.47315979, 141.11201477, 142.62414551, 142.42901611,\n",
       "        141.15110779, 141.58030701, 141.91200256, 140.68283081,\n",
       "        142.30221558, 142.64363098, 142.83872986, 141.99977112,\n",
       "        142.48756409, 142.30082703, 142.54522705, 142.10528564,\n",
       "        141.23516846, 141.0982666 , 139.61222839, 139.97395325,\n",
       "        141.23516846, 141.18630981, 142.20304871, 142.33013916,\n",
       "        142.63322449, 142.77011108, 144.16821289, 144.36373901,\n",
       "        144.19752502]),\n",
       " 3: array([144.73524475, 144.47125244, 145.02853394, 145.52714539,\n",
       "        145.71292114, 145.53691101, 144.9992218 , 145.39028931,\n",
       "        144.44194031, 144.68634033, 144.13885498, 143.67935181,\n",
       "        147.86380005, 148.19621277, 148.753479  , 148.70462036,\n",
       "        148.42108154, 149.84848022, 150.35687256, 150.44488525,\n",
       "        151.05105591, 150.25912476, 150.24931335, 150.43510437,\n",
       "        149.8875885 , 149.18367004, 151.09011841, 150.51329041,\n",
       "        150.39596558, 152.02870178, 152.21444702, 152.77171326,\n",
       "        152.70327759, 153.09436035, 150.42529297, 151.68652344,\n",
       "        151.04124451, 149.30099487, 149.39878845, 150.07333374,\n",
       "        150.58175659, 151.24658203, 152.41976929, 152.21444702,\n",
       "        152.50778198, 152.40023804, 154.13070679, 155.42292786,\n",
       "        154.50201416, 154.33546448, 154.35507202, 154.17871094,\n",
       "        153.34596252, 153.36555481, 153.55166626, 152.60134888,\n",
       "        155.27601624, 156.78475952, 157.05908203, 158.63644409,\n",
       "        159.25369263]),\n",
       " 4: array([158.89115906, 159.97866821, 161.15432739, 160.69387817,\n",
       "        162.42793274, 162.45736694, 162.96679688, 164.71072388,\n",
       "        166.07252502, 164.99482727, 164.93608093, 167.46372986,\n",
       "        166.65058899, 165.27896118, 165.9647522 , 164.5539856 ,\n",
       "        161.27186584, 154.91351318, 159.01850891, 156.96112061,\n",
       "        150.3381958 , 152.9344635 , 155.64828491, 156.45167542,\n",
       "        159.38102722, 162.33979797, 161.61479187, 161.93811035,\n",
       "        161.47764587, 161.45806885, 164.75970459, 166.94450378,\n",
       "        164.8772583 , 163.81918335, 161.14453125, 162.62391663,\n",
       "        164.42660522, 165.12219238, 165.50427246, 166.41543579,\n",
       "        169.64849854, 170.54985046, 168.22792053, 168.19851685,\n",
       "        168.05157471, 167.5519104 , 163.977005  , 164.51670837,\n",
       "        163.80036926, 159.75735474, 155.54750061, 161.3274231 ,\n",
       "        156.10687256, 154.31109619, 157.13726807, 152.60359192,\n",
       "        154.32090759, 156.75457764, 157.64755249, 153.7026825 ,\n",
       "        154.78207397]),\n",
       " 5: array([157.28445435, 159.17837524, 158.3540802 , 159.56112671,\n",
       "        162.99569702, 163.32929993, 161.82791138, 159.26672363,\n",
       "        158.86434937, 155.49847412, 155.68490601, 158.9624939 ,\n",
       "        159.06062317, 157.93212891, 159.73773193, 158.79570007,\n",
       "        158.77604675, 161.78868103, 163.1330719 , 162.96624756,\n",
       "        164.74241638, 166.44989014, 166.2928772 , 166.57749939,\n",
       "        164.73260498, 165.82183838, 165.18400574, 164.33026123,\n",
       "        165.25270081, 165.0368042 , 166.43026733, 166.38119507,\n",
       "        166.54800415, 165.81204224, 166.99943542, 166.89149475,\n",
       "        169.51158142, 171.04243469, 171.57235718, 172.57327271,\n",
       "        171.16999817, 171.17980957, 171.64105225, 172.5438385 ,\n",
       "        172.5340271 , 174.28077698, 173.67233276, 173.57202148,\n",
       "        173.08033752, 174.30958557, 172.7951355 , 172.41162109,\n",
       "        168.52713013, 169.21551514, 166.91435242, 168.35009766,\n",
       "        168.80245972, 169.93341064, 167.96659851, 170.05142212,\n",
       "        172.69680786]),\n",
       " 6: array([174.37843323, 173.49337769, 176.48294067, 176.63044739,\n",
       "        176.20758057, 177.27947998, 176.94512939, 176.06004333,\n",
       "        176.02072144, 176.58128357, 177.30899048, 179.78718567,\n",
       "        177.06312561, 174.67344666, 172.20510864, 173.52284241,\n",
       "        174.18173218, 176.55175781, 177.09263611, 178.13505554,\n",
       "        178.78410339, 179.00047302, 178.89227295, 177.52536011,\n",
       "        177.3286438 , 178.43992615, 176.25674438, 176.83694458,\n",
       "        176.87628174, 176.71893311, 177.36804199, 178.05636597,\n",
       "        177.8006897 , 179.45283508, 181.28196716, 181.54748535,\n",
       "        183.64215088, 183.31764221, 183.5536499 , 182.76693726,\n",
       "        180.40672302, 178.79396057, 178.10552979, 178.70544434,\n",
       "        180.08222961, 179.55117798, 181.46882629, 180.93777466,\n",
       "        178.33172607, 179.80685425, 179.66915894, 181.65565491,\n",
       "        180.66242981, 181.16485596, 181.41113281, 181.53923035,\n",
       "        183.0761261 , 183.03669739, 183.41108704, 182.99729919,\n",
       "        183.19432068]),\n",
       " 7: array([177.48028564, 176.39659119, 176.96800232, 169.18505859,\n",
       "        167.0866394 , 171.73669434, 169.65797424, 174.59371948,\n",
       "        174.66267395, 170.61357117, 170.45594788, 171.33274841,\n",
       "        170.70225525, 162.88977051, 168.5249939 , 164.19020081,\n",
       "        160.8110199 , 163.46116638, 167.30337524, 169.51017761,\n",
       "        166.86991882, 166.45613098, 167.71716309, 172.97801208,\n",
       "        171.87463379, 168.97817993, 163.8651123 , 164.00300598,\n",
       "        162.7518158 , 165.59901428, 165.01777649, 159.65837097,\n",
       "        156.80133057, 157.99342346, 156.8506012 , 160.47605896,\n",
       "        161.01791382, 166.19995117, 165.65811157, 166.86003113,\n",
       "        169.77618408, 163.26412964, 164.41679382, 158.98846436,\n",
       "        160.65339661, 161.18539429, 162.60406494, 162.65332031,\n",
       "        158.69290161, 155.09698486, 156.0723114 , 152.23995972,\n",
       "        150.03314209, 145.38313293, 141.77787781, 150.63037109,\n",
       "        151.21328735, 151.13426208, 152.4087677 , 153.02133179,\n",
       "        148.02206421]),\n",
       " 8: array([156.1927948 , 157.6056366 , 158.89004517, 159.34451294,\n",
       "        158.76158142, 157.35864258, 160.43132019, 160.40168762,\n",
       "        161.66633606, 163.26687622, 159.99659729, 160.20407104,\n",
       "        161.24147034, 163.16807556, 161.15255737, 159.63104248,\n",
       "        163.69169617, 166.14196777, 165.44047546, 167.49552917,\n",
       "        168.97750854, 168.47361755, 166.21112061, 166.53713989,\n",
       "        166.37905884, 168.83918762, 168.95774841, 169.16522217,\n",
       "        169.87658691, 170.21250916, 170.18286133, 169.5604248 ,\n",
       "        170.81518555, 171.43762207, 171.615448  , 171.50679016,\n",
       "        171.11160278, 172.29719543, 172.32684326, 172.45529175,\n",
       "        171.47714233, 169.37269592, 169.11582947, 172.63310242,\n",
       "        173.581604  , 174.88572693, 174.58937073, 176.20967102,\n",
       "        176.6293335 , 177.22322083, 177.92597961, 180.70730591,\n",
       "        176.73822021, 176.40170288, 177.22322083, 176.08494568,\n",
       "        176.49076843, 177.82699585, 180.18270874, 180.86566162,\n",
       "        181.904953  ]),\n",
       " 9: array([182.77597046, 183.24118042, 182.59779358, 183.57771301,\n",
       "        183.14219666, 183.93405151, 183.96374512, 184.59719849,\n",
       "        185.24057007, 185.4781189 , 186.00271606, 188.36833191,\n",
       "        187.77445984, 188.53659058, 188.70484924, 189.0710907 ,\n",
       "        187.60617065, 187.00239563, 186.19078064, 189.16017151,\n",
       "        188.00212097, 184.33987427, 183.87464905, 182.88484192,\n",
       "        183.11250305, 176.75801086, 178.69801331, 181.2219696 ,\n",
       "        183.04321289, 181.17250061, 178.11404419, 179.97485352,\n",
       "        179.17311096, 176.43138123, 176.34228516, 175.67913818,\n",
       "        174.23400879, 174.96647644, 172.17524719, 168.38430786,\n",
       "        173.12545776, 174.41220093, 175.7979126 , 179.19290161,\n",
       "        181.28137207, 181.52885437, 180.47962952, 181.54862976,\n",
       "        180.77659607, 181.86538696, 184.50811768, 185.20098877,\n",
       "        186.92323303, 186.64608765, 186.65203857, 183.44792175,\n",
       "        184.30102539, 185.00534058, 185.24343872, 187.7432251 ,\n",
       "        188.48721313]),\n",
       " 10: array([189.51887512, 188.18962097, 189.13201904, 191.01678467,\n",
       "        190.87788391, 191.97900391, 192.59402466, 191.60203552,\n",
       "        190.65963745, 190.87788391, 189.47920227, 190.98701477,\n",
       "        192.23692322, 193.58601379, 191.75083923, 193.72488403,\n",
       "        193.06025696, 192.227005  , 189.5684967 , 188.62608337,\n",
       "        185.84851074, 179.28157043, 181.79130554, 182.77337646,\n",
       "        186.75123596, 184.99542236, 182.87257385, 186.88020325,\n",
       "        181.29530334, 181.0869751 , 183.99351501, 186.91986084,\n",
       "        185.47157288, 187.11828613, 186.51316833, 180.6108551 ,\n",
       "        183.33882141, 182.95191956, 183.60662842, 186.41394043,\n",
       "        185.96759033, 184.16215515, 186.82067871, 190.24302673,\n",
       "        190.05455017, 189.65774536, 189.11216736, 190.88781738,\n",
       "        191.68139648, 190.99691772, 190.14381409, 191.05645752,\n",
       "        190.97709656, 191.29454041, 189.27087402, 189.35437012,\n",
       "        186.83958435, 188.93690491, 188.24110413, 185.90522766,\n",
       "        187.67451477]),\n",
       " 11: array([182.94316101, 184.95101929, 187.67451477, 187.10795593,\n",
       "        184.30491638, 186.10403442, 187.54530334, 189.96070862,\n",
       "        189.94082642, 192.35620117, 191.87908936, 192.3860321 ,\n",
       "        190.53723145, 192.22698975, 190.69624329, 191.06402588,\n",
       "        192.92276001, 194.4634552 , 196.38186646, 194.86105347,\n",
       "        195.80535889, 195.89479065, 197.67404175, 198.89665222,\n",
       "        199.00598145, 198.55867004, 199.22463989, 200.01983643,\n",
       "        199.7514801 , 200.32797241, 200.37767029, 200.21861267,\n",
       "        201.68974304, 201.8487854 , 202.14697266, 200.9342804 ,\n",
       "        200.48701477, 200.61624146, 202.99185181, 203.3795166 ,\n",
       "        204.80090332, 203.86657715, 201.77919006, 200.19876099,\n",
       "        201.21263123, 201.61021423, 203.76716614, 202.84277344,\n",
       "        202.67378235, 203.74729919, 205.26806641, 205.94400024,\n",
       "        208.01148987, 208.13076782, 208.28981018, 209.5919342 ,\n",
       "        210.43681335, 210.99266052, 211.10223389, 212.9650116 ,\n",
       "        212.78572083])}"
      ]
     },
     "execution_count": 5,
     "metadata": {},
     "output_type": "execute_result"
    }
   ],
   "source": [
    "for v in range(12):\n",
    "    h = 0\n",
    "    f = 61\n",
    "    print(v, qqq.data)\n",
    "    v+"
   ]
  },
  {
   "cell_type": "code",
   "execution_count": null,
   "metadata": {},
   "outputs": [],
   "source": []
  },
  {
   "cell_type": "code",
   "execution_count": null,
   "metadata": {},
   "outputs": [],
   "source": []
  },
  {
   "cell_type": "code",
   "execution_count": 4,
   "metadata": {},
   "outputs": [],
   "source": [
    "class data_prep:\n",
    "    \n",
    "    def __init__ (self, prev_prices, prices, strike_price, state_cut_offs = [0.5, 1.0], time_cut_offs = [3,7],option_length_years = 0.25, risk_free = 0.05, symbol = 'VOO'):\n",
    "        \n",
    "        self.symbol = symbol\n",
    "        self.prices = prices\n",
    "        self.prev_prices = prev_prices\n",
    "        self.est_daily_volatility = None\n",
    "        self.annual_vol = None\n",
    "        self.strike_price = strike_price\n",
    "        self.state_cut_offs = state_cut_offs\n",
    "        self.time_cut_offs = time_cut_offs\n",
    "        self.option_length = option_length_years\n",
    "        self.risk_free = risk_free\n",
    "        self.state_defs = None\n",
    "    \n",
    "    def estimate_volatility(self):\n",
    "        r = diff(log(self.prev_prices))\n",
    "        r_mean = mean(r)\n",
    "        diff_square = [(r[i]-r_mean)**2 for i in range(0,len(r))]\n",
    "        std = sqrt(sum(diff_square)*(1.0/(len(r)-1)))\n",
    "        self.est_daily_volatility = std #Calculated at Daily Level\n",
    "        self.annual_vol = self.est_daily_volatility*np.sqrt(252)\n",
    "        \n",
    "    def boundary_vector(self):\n",
    "        mdl = create_binomial_model(sigma=self.est_daily_volatility, r=0.0005, S0=self.prices[0], T=len(self.prices), n=100)\n",
    "        exercise_barrier = american_put_exercise_barrier_fitted(mdl, self.strike_price, 3)\n",
    "        boundary_vec = [exercise_barrier(k) for k in range(1,len(self.prices)+1)]\n",
    "        return(boundary_vec)\n",
    "    \n",
    "    def longstaff_schwartz(self, boundary_policy):\n",
    "        ls_policy = [ 1 if self.prices[i] > boundary_policy[i] else 0 for i in range(len(self.prices))]\n",
    "        return(ls_policy)\n",
    "\n",
    "    "
   ]
  },
  {
   "cell_type": "code",
   "execution_count": null,
   "metadata": {},
   "outputs": [],
   "source": []
  },
  {
   "cell_type": "code",
   "execution_count": null,
   "metadata": {},
   "outputs": [],
   "source": []
  },
  {
   "cell_type": "code",
   "execution_count": null,
   "metadata": {},
   "outputs": [],
   "source": [
    "############## Generate Policy ######################"
   ]
  },
  {
   "cell_type": "code",
   "execution_count": null,
   "metadata": {},
   "outputs": [],
   "source": []
  },
  {
   "cell_type": "code",
   "execution_count": null,
   "metadata": {},
   "outputs": [],
   "source": []
  },
  {
   "cell_type": "code",
   "execution_count": null,
   "metadata": {},
   "outputs": [],
   "source": []
  },
  {
   "cell_type": "code",
   "execution_count": null,
   "metadata": {},
   "outputs": [],
   "source": []
  },
  {
   "cell_type": "code",
   "execution_count": null,
   "metadata": {},
   "outputs": [],
   "source": []
  },
  {
   "cell_type": "code",
   "execution_count": null,
   "metadata": {},
   "outputs": [],
   "source": [
    "########### Prediction ################"
   ]
  },
  {
   "cell_type": "code",
   "execution_count": 5,
   "metadata": {},
   "outputs": [],
   "source": [
    "class ls_online_predict:\n",
    "    \n",
    "    def __init__ (self, data_object, policy):\n",
    "        \n",
    "        self.data_object = data_object\n",
    "        self.policy = policy\n",
    "        self.epsilon_episode = None\n",
    "        self.deltas = None\n",
    "        \n",
    "    def delta(self):\n",
    "        self.deltas =  [np.around(bs.delta('c',self.data_object.prices[h], \n",
    "                          self.data_object.strike_price, \n",
    "                          self.data_object.option_length - np.around(h/252,2), #Time to expiry\n",
    "                          self.data_object.risk_free, \n",
    "                          self.data_object.annual_vol),2) for h in range(len(self.data_object.prices))]\n",
    "        \n",
    "    #Here episode represents whether strategy = 0 or 1\n",
    "    def predict_profit_function(self, episode):\n",
    "    \n",
    "        positions = [self.deltas[h] if episode[h] == 1 else self.deltas[h-1] for h in range(len(self.data_object.prices))]\n",
    "    \n",
    "        #Cost of Borrowing Money for 1 day \n",
    "        dollar_positions = -1*[self.data_object.prices[h]*positions[h]*self.data_object.risk_free for h in range(len(self.data_object.prices))]\n",
    "    \n",
    "        #Cost of adjusting portfolio to bring position at par with BS delta\n",
    "        portfolio_positions = [self.data_object.prices[h]*(positions[h] - positions[h-1]) for h in range(1,len(self.data_object.prices))]\n",
    "    \n",
    "        #Sum daily transaction costs over the Option Time Frame\n",
    "        transaction_cost = sum(dollar_positions)\n",
    "    \n",
    "        #Sum daily portfolio costs over the Option Time Frame\n",
    "        portfolio_cost = sum(portfolio_positions)\n",
    "    \n",
    "        #Return the Excess Profit over Black Scholes\n",
    "        return transaction_cost + portfolio_cost\n",
    "    \n",
    "    def ls_predict(self):\n",
    "        \n",
    "        self.epsilon_episode = self.policy\n",
    "        \n",
    "        return(self.predict_profit_function(self.epsilon_episode))\n",
    "    \n",
    "    "
   ]
  },
  {
   "cell_type": "code",
   "execution_count": 18,
   "metadata": {},
   "outputs": [],
   "source": [
    "ls4 = data_prep(prev_prices=bnd.data_dict[3], prices=bnd.data_dict[4],strike_price=76.000000)"
   ]
  },
  {
   "cell_type": "code",
   "execution_count": 19,
   "metadata": {},
   "outputs": [],
   "source": [
    "ls4.estimate_volatility()"
   ]
  },
  {
   "cell_type": "code",
   "execution_count": 20,
   "metadata": {},
   "outputs": [],
   "source": [
    "boundary_v = ls4.boundary_vector()"
   ]
  },
  {
   "cell_type": "code",
   "execution_count": 21,
   "metadata": {},
   "outputs": [],
   "source": [
    "boundary_pol = ls4.longstaff_schwartz(boundary_v)"
   ]
  },
  {
   "cell_type": "code",
   "execution_count": null,
   "metadata": {},
   "outputs": [],
   "source": [
    "#Predict"
   ]
  },
  {
   "cell_type": "code",
   "execution_count": 22,
   "metadata": {},
   "outputs": [],
   "source": [
    "L4 = ls_online_predict(ls4,boundary_pol)\n"
   ]
  },
  {
   "cell_type": "code",
   "execution_count": 23,
   "metadata": {},
   "outputs": [],
   "source": [
    "L4.delta()\n"
   ]
  },
  {
   "cell_type": "code",
   "execution_count": 24,
   "metadata": {},
   "outputs": [
    {
     "name": "stdout",
     "output_type": "stream",
     "text": [
      "0.2503160858154333\n"
     ]
    }
   ],
   "source": [
    "print(L4.ls_predict())\n"
   ]
  },
  {
   "cell_type": "code",
   "execution_count": null,
   "metadata": {},
   "outputs": [],
   "source": []
  },
  {
   "cell_type": "code",
   "execution_count": null,
   "metadata": {},
   "outputs": [],
   "source": []
  },
  {
   "cell_type": "code",
   "execution_count": 6,
   "metadata": {},
   "outputs": [
    {
     "name": "stdout",
     "output_type": "stream",
     "text": [
      "-32.96406341552734\n"
     ]
    }
   ],
   "source": [
    "ls4 = data_prep(prev_prices=qqq.data_dict[3], prices=qqq.data_dict[4],strike_price=165.000000)\n",
    "ls4.estimate_volatility()\n",
    "boundary_v = ls4.boundary_vector()\n",
    "boundary_pol = ls4.longstaff_schwartz(boundary_v)\n",
    "\n",
    "\n",
    "#Predict\n",
    "L4 = ls_online_predict(ls4,boundary_pol)\n",
    "L4.delta()\n",
    "print(L4.ls_predict())\n"
   ]
  },
  {
   "cell_type": "code",
   "execution_count": null,
   "metadata": {},
   "outputs": [],
   "source": []
  },
  {
   "cell_type": "code",
   "execution_count": null,
   "metadata": {},
   "outputs": [],
   "source": [
    "################"
   ]
  },
  {
   "cell_type": "code",
   "execution_count": 7,
   "metadata": {},
   "outputs": [
    {
     "name": "stdout",
     "output_type": "stream",
     "text": [
      "14.82844741821285\n"
     ]
    }
   ],
   "source": [
    "ls5 = data_prep(prev_prices=qqq.data_dict[10], prices=qqq.data_dict[11],strike_price=210.000000)\n",
    "ls5.estimate_volatility()\n",
    "boundary_v2 = ls5.boundary_vector()\n",
    "boundary_pol2 = ls5.longstaff_schwartz(boundary_v2)\n",
    "\n",
    "\n",
    "#Predict\n",
    "L5 = ls_online_predict(ls5,boundary_pol2)\n",
    "L5.delta()\n",
    "print(L5.ls_predict())\n"
   ]
  },
  {
   "cell_type": "code",
   "execution_count": null,
   "metadata": {},
   "outputs": [],
   "source": []
  },
  {
   "cell_type": "code",
   "execution_count": null,
   "metadata": {},
   "outputs": [],
   "source": [
    "###################"
   ]
  },
  {
   "cell_type": "code",
   "execution_count": 9,
   "metadata": {},
   "outputs": [
    {
     "name": "stdout",
     "output_type": "stream",
     "text": [
      "-65.13137649536132\n"
     ]
    }
   ],
   "source": [
    "ls6 = data_prep(prev_prices=qqq.data_dict[9], prices=qqq.data_dict[10],strike_price=195.000000)\n",
    "ls6.estimate_volatility()\n",
    "boundary_v3 = ls6.boundary_vector()\n",
    "boundary_pol3 = ls6.longstaff_schwartz(boundary_v3)\n",
    "\n",
    "\n",
    "#Predict\n",
    "L6 = ls_online_predict(ls6,boundary_pol3)\n",
    "L6.delta()\n",
    "print(L6.ls_predict())"
   ]
  },
  {
   "cell_type": "code",
   "execution_count": null,
   "metadata": {},
   "outputs": [],
   "source": []
  },
  {
   "cell_type": "code",
   "execution_count": null,
   "metadata": {},
   "outputs": [],
   "source": []
  },
  {
   "cell_type": "code",
   "execution_count": null,
   "metadata": {},
   "outputs": [],
   "source": []
  }
 ],
 "metadata": {
  "kernelspec": {
   "display_name": "Python 3",
   "language": "python",
   "name": "python3"
  },
  "language_info": {
   "codemirror_mode": {
    "name": "ipython",
    "version": 3
   },
   "file_extension": ".py",
   "mimetype": "text/x-python",
   "name": "python",
   "nbconvert_exporter": "python",
   "pygments_lexer": "ipython3",
   "version": "3.6.3"
  }
 },
 "nbformat": 4,
 "nbformat_minor": 2
}
